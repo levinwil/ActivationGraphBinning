{
 "cells": [
  {
   "cell_type": "code",
   "execution_count": 1,
   "metadata": {
    "colab": {},
    "colab_type": "code",
    "id": "RPaqPKs4ZvVa"
   },
   "outputs": [
    {
     "name": "stderr",
     "output_type": "stream",
     "text": [
      "Using TensorFlow backend.\n"
     ]
    },
    {
     "name": "stdout",
     "output_type": "stream",
     "text": [
      "WARNING:tensorflow:From /home/ubuntu/anaconda3/envs/tensorflow_p36/lib/python3.6/site-packages/tensorflow_core/__init__.py:1473: The name tf.estimator.inputs is deprecated. Please use tf.compat.v1.estimator.inputs instead.\n",
      "\n"
     ]
    }
   ],
   "source": [
    "import keras\n",
    "import numpy as np\n",
    "import matplotlib.pyplot as plt\n",
    "import matplotlib.gridspec as gridspec\n",
    "from matplotlib.patches import ConnectionPatch\n",
    "from matplotlib.cm import get_cmap\n",
    "import seaborn as sns\n",
    "import warnings\n",
    "\n",
    "from sklearn.neighbors import KernelDensity\n",
    "from sklearn.datasets import make_circles\n",
    "import sklearn\n",
    "\n",
    "from sklearn.model_selection import train_test_split\n",
    "\n",
    "from matplotlib.colors import DivergingNorm\n",
    "from tqdm.notebook import tqdm\n",
    "\n",
    "from joblib import Parallel, delayed\n",
    "\n",
    "from keras.datasets import cifar10"
   ]
  },
  {
   "cell_type": "markdown",
   "metadata": {},
   "source": [
    "# Experiment Parameters"
   ]
  },
  {
   "cell_type": "code",
   "execution_count": 9,
   "metadata": {
    "colab": {},
    "colab_type": "code",
    "id": "Cha_h-Smq2z1"
   },
   "outputs": [],
   "source": [
    "epochs = 30\n",
    "width = 3"
   ]
  },
  {
   "cell_type": "markdown",
   "metadata": {},
   "source": [
    "# Data Generation"
   ]
  },
  {
   "cell_type": "markdown",
   "metadata": {
    "colab_type": "text",
    "id": "mzuhRa_v8IrC"
   },
   "source": [
    "# Construct & Train Network"
   ]
  },
  {
   "cell_type": "code",
   "execution_count": 10,
   "metadata": {
    "colab": {
     "base_uri": "https://localhost:8080/",
     "height": 68
    },
    "colab_type": "code",
    "id": "aA3RJ4NZ8LqF",
    "outputId": "cc729b13-b420-4dc7-e851-e68aa2e93982"
   },
   "outputs": [],
   "source": [
    "def construct_network(X, y):\n",
    "    network = keras.Sequential()\n",
    "    network.add(keras.layers.Dense(width, input_shape = np.shape(X)[1:], activation = 'relu', use_bias=True))\n",
    "    network.add(keras.layers.Dense(width, activation = 'relu'))\n",
    "    network.add(keras.layers.Dense(width, activation = 'relu'))\n",
    "    network.add(keras.layers.Dense(len(np.unique(y)), activation = 'sigmoid'))\n",
    "    network.compile(loss = 'categorical_crossentropy', optimizer = keras.optimizers.Adam(3e-4), metrics = ['acc'])\n",
    "    network.fit(\n",
    "      X, \n",
    "      keras.utils.to_categorical(y), \n",
    "      epochs = epochs, \n",
    "      verbose = False\n",
    "    )\n",
    "    \n",
    "    return network\n",
    "\n",
    "    "
   ]
  },
  {
   "cell_type": "markdown",
   "metadata": {},
   "source": [
    "## Keurnal Networks"
   ]
  },
  {
   "cell_type": "code",
   "execution_count": 11,
   "metadata": {},
   "outputs": [],
   "source": [
    "def train_AKN(X, y, X_test, y_test):\n",
    "    X_transform, X, y_transform, y = train_test_split(X, y)\n",
    "    network = construct_network(X_transform, y_transform)\n",
    "    \n",
    "    input_weights, penultimate_weights, ultimate_weights = [network.layers[i].get_weights()[0] for i in {0, 1, 2}]\n",
    "    input_bias, penultimate_bias, ultimate_bias = [network.layers[i].get_weights()[1] for i in {0, 1, 2}]\n",
    "    second_layer_preactivations = np.matmul(X, input_weights) + input_bias \n",
    "    second_layer_activations = second_layer_preactivations * (second_layer_preactivations > 0).astype('int')\n",
    "    penultimate_preactivations = np.matmul(second_layer_activations, penultimate_weights) + penultimate_bias\n",
    "    penultimate_activations = penultimate_preactivations * (penultimate_preactivations > 0).astype('int')\n",
    "    ultimate_preactivations = np.matmul(penultimate_activations, ultimate_weights) + ultimate_bias\n",
    "    ultimate_activations = ultimate_preactivations * (ultimate_preactivations > 0).astype('int')\n",
    "\n",
    "    signed_second_layer_activations = (second_layer_preactivations > 0).astype('int')\n",
    "    signed_penultimate_activations = (penultimate_preactivations > 0).astype('int')\n",
    "    signed_ultimate_activations = (ultimate_preactivations > 0).astype('int')\n",
    "    \n",
    "    polytope_memberships = np.concatenate([signed_second_layer_activations, signed_penultimate_activations, signed_ultimate_activations], axis = 1)\n",
    "    unique_polytope_ids, polytope_ids = np.unique(np.matmul(polytope_memberships, 2 ** np.arange(0, np.shape(polytope_memberships)[1])), return_inverse = True)\n",
    "\n",
    "\n",
    "    #an array of all of the X-values of the class-wise means in each leaf\n",
    "    polytope_means_X = []\n",
    "\n",
    "    #an array of all of the y-values (i.e. class values) of the class-wise means in each leaf\n",
    "    polytope_means_y = []\n",
    "\n",
    "    #an array of all of the number of points that comprise the means in each leaf\n",
    "    polytope_means_weight = []\n",
    "\n",
    "    #an array of all of the average variances of the points in each leaf corresponding to \n",
    "    #a single class from the class-wise mean in that leaf\n",
    "    polytope_means_var = []\n",
    "\n",
    "    polytope_KDEs = []\n",
    "\n",
    "    for polytope_value in np.unique(polytope_ids):\n",
    "        for y_val in np.unique(y):\n",
    "            idxs_in_polytope_of_class = np.where((y == y_val) & (polytope_ids == polytope_value))[0]\n",
    "            if len(idxs_in_polytope_of_class) > 1:\n",
    "                mean_X_in_polytope_of_class = np.mean(X[idxs_in_polytope_of_class], axis = 0)\n",
    "\n",
    "                polytope_means_X.append(mean_X_in_polytope_of_class)\n",
    "                #we already know the y value, so just append it \n",
    "                polytope_means_y.append(y_val)\n",
    "                #compute the number of points in that leaf corresponding to that y value\n",
    "                #and append to the aggregate array\n",
    "                polytope_means_weight.append(len(idxs_in_polytope_of_class))\n",
    "                #compute the distances of all the points in that leaf corresponding to that y value\n",
    "                #from the mean X-value of the points in that leaf corresponding to that y value\n",
    "                dists_in_polytope = np.sqrt(np.sum((X[idxs_in_polytope_of_class] - mean_X_in_polytope_of_class)**2, axis = 1))\n",
    "                #compute the variance as the average distance of the class-wise points in that leaf \n",
    "                #and append to the aggregate array\n",
    "                polytope_means_var.append(np.mean(dists_in_polytope))\n",
    "\n",
    "    #convert to numpy array so we can easily refer to multiple sets of points as ra[idxs]\n",
    "    polytope_means_y, polytope_means_X, polytope_means_weight = np.array(polytope_means_y), np.array(polytope_means_X), np.array(polytope_means_weight)\n",
    "    #compute the bandwidth as the average variance across the class-wise leaf means, weighted\n",
    "    #by the number of points\n",
    "    bandwidth=np.average(polytope_means_var, weights = polytope_means_weight)\n",
    "\n",
    "    #an array of all of the KDEs. Each KDE will be respondsible for computing the probability \n",
    "    #that a given set of inference points belongs to that class. Thus, we have separate KDEs \n",
    "    #for each class. The KDE at index i is the KDE that is responsible for computations on \n",
    "    #y_value = i\n",
    "    KDEs = []\n",
    "    #loop over the y values in the leaf means \n",
    "    for y_val in np.unique(polytope_means_y):\n",
    "        #gather all of the leaf means corresponding to the given y value\n",
    "        polytope_means_X_of_y_val = polytope_means_X[np.where(polytope_means_y == y_val)[0]]\n",
    "        #father all of the weights corresponding to the given y value\n",
    "        polytope_means_weight_of_y_val = polytope_means_weight[np.where(polytope_means_y == y_val)[0]]\n",
    "        #train an sklearn KDE with a gaussian kernel with the bandwidth calculated above\n",
    "        kde = KernelDensity(kernel='gaussian', bandwidth=bandwidth)\n",
    "        #fit the KDE on the leaf means corresponding to the given y value, weighted by\n",
    "        #the weights corresponding to the given y value\n",
    "        kde.fit(X = polytope_means_X_of_y_val, sample_weight = polytope_means_weight_of_y_val)\n",
    "\n",
    "        #append the KDE to the aggregate array\n",
    "        KDEs.append(kde)\n",
    "    \n",
    "    return KDEs"
   ]
  },
  {
   "cell_type": "code",
   "execution_count": 12,
   "metadata": {},
   "outputs": [],
   "source": [
    "def generate_gaussian_parity(n):\n",
    "    means = np.array([[-1, -1], [1, 1], [-1, 1], [1, -1]])\n",
    "    X = np.concatenate([np.random.multivariate_normal(mean, 0.25 * np.eye(len(mean)),\n",
    "                                                 size=int(n / 4)) for mean in means])\n",
    "\n",
    "    y = np.concatenate([np.ones(int(n / 4)) * int(idx < 2) for idx in range(len(means))])\n",
    "\n",
    "    random_indices_order = list(range(len(X)))\n",
    "    np.random.shuffle(random_indices_order)\n",
    "    return X[random_indices_order], np.array(y[random_indices_order]).astype('int')"
   ]
  },
  {
   "cell_type": "code",
   "execution_count": 13,
   "metadata": {},
   "outputs": [],
   "source": [
    "'''\n",
    "def get_ECE(predicted_posterior, y, num_bins = 10):\n",
    "    ECE_across_y_vals = []\n",
    "    for y_val in np.unique(y):\n",
    "        hists = []\n",
    "        hists_hat = []\n",
    "        amts = []\n",
    "        for i in range(num_bins):\n",
    "            prop = i*1./num_bins\n",
    "            inds = np.where((predicted_posterior[:, y_val] >= prop) & (predicted_posterior[:, y_val] <= prop+1./num_bins))[0]\n",
    "            amts.append(len(inds))\n",
    "            if len(inds) > 0:\n",
    "                hists.append(len(np.where(y[inds] == y_val)[0])*1./len(inds))\n",
    "                hists_hat.append(np.mean(predicted_posterior[inds, y_val]))\n",
    "            else:\n",
    "                hists.append(prop)\n",
    "                hists_hat.append(prop + 0.5/num_bins)\n",
    "        hists, hists_hat, amts = np.array(hists), np.array(hists_hat), np.array(amts)\n",
    "        plt.plot(hists_hat, hists)\n",
    "        plt.show()\n",
    "        ECE = np.dot(np.abs(hists - hists_hat), amts) / np.sum(amts)\n",
    "        ECE_across_y_vals.append(ECE)\n",
    "    return np.mean(ECE_across_y_vals)\n",
    "'''\n",
    "\n",
    "def get_brier(predicted_posterior, y):\n",
    "    brier_across_y_vals = []\n",
    "    for y_val in np.unique(y):\n",
    "        brier_across_y_vals.append(np.mean((predicted_posterior[:, y_val] - (y == y_val).astype('int'))**2))\n",
    "    return np.mean(brier_across_y_vals)"
   ]
  },
  {
   "cell_type": "code",
   "execution_count": 14,
   "metadata": {},
   "outputs": [],
   "source": [
    "'''\n",
    "X, y = sklearn.datasets.make_classification(n_samples = 10000,\n",
    "                                            n_features = 3,\n",
    "                                            n_informative = 3,\n",
    "                                            n_redundant = 0,\n",
    "                                            n_clusters_per_class = 3)\n",
    "'''\n",
    "X, y = generate_gaussian_parity(n = 2e4)\n",
    "X_test, y_test = generate_gaussian_parity(n = 1e3)"
   ]
  },
  {
   "cell_type": "code",
   "execution_count": null,
   "metadata": {
    "scrolled": true
   },
   "outputs": [
    {
     "data": {
      "application/vnd.jupyter.widget-view+json": {
       "model_id": "c52d78e40f934fa7988fbd043b65f78b",
       "version_major": 2,
       "version_minor": 0
      },
      "text/plain": [
       "HBox(children=(FloatProgress(value=0.0, max=6.0), HTML(value='')))"
      ]
     },
     "metadata": {},
     "output_type": "display_data"
    },
    {
     "data": {
      "application/vnd.jupyter.widget-view+json": {
       "model_id": "804f2dd5b1e84d32bb26b07a0996a9e6",
       "version_major": 2,
       "version_minor": 0
      },
      "text/plain": [
       "HBox(children=(FloatProgress(value=0.0, max=10.0), HTML(value='')))"
      ]
     },
     "metadata": {},
     "output_type": "display_data"
    },
    {
     "name": "stdout",
     "output_type": "stream",
     "text": [
      "\t======================\n",
      "\tKDE Accs: [0.914]\n",
      "\tNetwork Accs: [0.701]\n",
      "\n",
      "\tKDE briers: [0.0653234744905705]\n",
      "\tNetwork briers: [0.24762232526825537]\n",
      "\t======================\n",
      "\t======================\n",
      "\tKDE Accs: [0.914, 0.87]\n",
      "\tNetwork Accs: [0.701, 0.57]\n",
      "\n",
      "\tKDE briers: [0.0653234744905705, 0.1496278192601155]\n",
      "\tNetwork briers: [0.24762232526825537, 0.2517371666441375]\n",
      "\t======================\n",
      "\t======================\n",
      "\tKDE Accs: [0.914, 0.87, 0.93]\n",
      "\tNetwork Accs: [0.701, 0.57, 0.605]\n",
      "\n",
      "\tKDE briers: [0.0653234744905705, 0.1496278192601155, 0.057553688839454845]\n",
      "\tNetwork briers: [0.24762232526825537, 0.2517371666441375, 0.23068947132644946]\n",
      "\t======================\n",
      "\t======================\n",
      "\tKDE Accs: [0.914, 0.87, 0.93, 0.94]\n",
      "\tNetwork Accs: [0.701, 0.57, 0.605, 0.56]\n",
      "\n",
      "\tKDE briers: [0.0653234744905705, 0.1496278192601155, 0.057553688839454845, 0.050083946556381834]\n",
      "\tNetwork briers: [0.24762232526825537, 0.2517371666441375, 0.23068947132644946, 0.24201279585881735]\n",
      "\t======================\n",
      "\t======================\n",
      "\tKDE Accs: [0.914, 0.87, 0.93, 0.94, 0.925]\n",
      "\tNetwork Accs: [0.701, 0.57, 0.605, 0.56, 0.381]\n",
      "\n",
      "\tKDE briers: [0.0653234744905705, 0.1496278192601155, 0.057553688839454845, 0.050083946556381834, 0.06572234807502263]\n",
      "\tNetwork briers: [0.24762232526825537, 0.2517371666441375, 0.23068947132644946, 0.24201279585881735, 0.2538194959237804]\n",
      "\t======================\n",
      "\t======================\n",
      "\tKDE Accs: [0.914, 0.87, 0.93, 0.94, 0.925, 0.945]\n",
      "\tNetwork Accs: [0.701, 0.57, 0.605, 0.56, 0.381, 0.5]\n",
      "\n",
      "\tKDE briers: [0.0653234744905705, 0.1496278192601155, 0.057553688839454845, 0.050083946556381834, 0.06572234807502263, 0.04961278372041558]\n",
      "\tNetwork briers: [0.24762232526825537, 0.2517371666441375, 0.23068947132644946, 0.24201279585881735, 0.2538194959237804, 0.25578685199092294]\n",
      "\t======================\n",
      "\t======================\n",
      "\tKDE Accs: [0.914, 0.87, 0.93, 0.94, 0.925, 0.945, 0.938]\n",
      "\tNetwork Accs: [0.701, 0.57, 0.605, 0.56, 0.381, 0.5, 0.5]\n",
      "\n",
      "\tKDE briers: [0.0653234744905705, 0.1496278192601155, 0.057553688839454845, 0.050083946556381834, 0.06572234807502263, 0.04961278372041558, 0.05444234364778458]\n",
      "\tNetwork briers: [0.24762232526825537, 0.2517371666441375, 0.23068947132644946, 0.24201279585881735, 0.2538194959237804, 0.25578685199092294, 0.26330553089880254]\n",
      "\t======================\n",
      "\t======================\n",
      "\tKDE Accs: [0.914, 0.87, 0.93, 0.94, 0.925, 0.945, 0.938, 0.951]\n",
      "\tNetwork Accs: [0.701, 0.57, 0.605, 0.56, 0.381, 0.5, 0.5, 0.5]\n",
      "\n",
      "\tKDE briers: [0.0653234744905705, 0.1496278192601155, 0.057553688839454845, 0.050083946556381834, 0.06572234807502263, 0.04961278372041558, 0.05444234364778458, 0.045731989634621856]\n",
      "\tNetwork briers: [0.24762232526825537, 0.2517371666441375, 0.23068947132644946, 0.24201279585881735, 0.2538194959237804, 0.25578685199092294, 0.26330553089880254, 0.2584813838220134]\n",
      "\t======================\n",
      "\t======================\n",
      "\tKDE Accs: [0.914, 0.87, 0.93, 0.94, 0.925, 0.945, 0.938, 0.951, 0.943]\n",
      "\tNetwork Accs: [0.701, 0.57, 0.605, 0.56, 0.381, 0.5, 0.5, 0.5, 0.5]\n",
      "\n",
      "\tKDE briers: [0.0653234744905705, 0.1496278192601155, 0.057553688839454845, 0.050083946556381834, 0.06572234807502263, 0.04961278372041558, 0.05444234364778458, 0.045731989634621856, 0.050508346910861195]\n",
      "\tNetwork briers: [0.24762232526825537, 0.2517371666441375, 0.23068947132644946, 0.24201279585881735, 0.2538194959237804, 0.25578685199092294, 0.26330553089880254, 0.2584813838220134, 0.26918304505287594]\n",
      "\t======================\n",
      "\t======================\n",
      "\tKDE Accs: [0.914, 0.87, 0.93, 0.94, 0.925, 0.945, 0.938, 0.951, 0.943, 0.9]\n",
      "\tNetwork Accs: [0.701, 0.57, 0.605, 0.56, 0.381, 0.5, 0.5, 0.5, 0.5, 0.5]\n",
      "\n",
      "\tKDE briers: [0.0653234744905705, 0.1496278192601155, 0.057553688839454845, 0.050083946556381834, 0.06572234807502263, 0.04961278372041558, 0.05444234364778458, 0.045731989634621856, 0.050508346910861195, 0.08115112517589543]\n",
      "\tNetwork briers: [0.24762232526825537, 0.2517371666441375, 0.23068947132644946, 0.24201279585881735, 0.2538194959237804, 0.25578685199092294, 0.26330553089880254, 0.2584813838220134, 0.26918304505287594, 0.24674537864207596]\n",
      "\t======================\n",
      "\n"
     ]
    },
    {
     "data": {
      "image/png": "[encoded data removed]",
      "text/plain": [
       "<Figure size 432x288 with 1 Axes>"
      ]
     },
     "metadata": {
      "needs_background": "light"
     },
     "output_type": "display_data"
    },
    {
     "data": {
      "image/png": "[encoded data removed]",
      "text/plain": [
       "<Figure size 432x288 with 1 Axes>"
      ]
     },
     "metadata": {
      "needs_background": "light"
     },
     "output_type": "display_data"
    },
    {
     "data": {
      "application/vnd.jupyter.widget-view+json": {
       "model_id": "cf1d9148838848a98b14419432e79ce1",
       "version_major": 2,
       "version_minor": 0
      },
      "text/plain": [
       "HBox(children=(FloatProgress(value=0.0, max=10.0), HTML(value='')))"
      ]
     },
     "metadata": {},
     "output_type": "display_data"
    },
    {
     "name": "stdout",
     "output_type": "stream",
     "text": [
      "\t======================\n",
      "\tKDE Accs: [0.944]\n",
      "\tNetwork Accs: [0.5]\n",
      "\n",
      "\tKDE briers: [0.049484900685690704]\n",
      "\tNetwork briers: [0.21045872120334222]\n",
      "\t======================\n",
      "\t======================\n",
      "\tKDE Accs: [0.944, 0.948]\n",
      "\tNetwork Accs: [0.5, 0.5]\n",
      "\n",
      "\tKDE briers: [0.049484900685690704, 0.04876831525239862]\n",
      "\tNetwork briers: [0.21045872120334222, 0.22176649774737897]\n",
      "\t======================\n",
      "\t======================\n",
      "\tKDE Accs: [0.944, 0.948, 0.929]\n",
      "\tNetwork Accs: [0.5, 0.5, 0.5]\n",
      "\n",
      "\tKDE briers: [0.049484900685690704, 0.04876831525239862, 0.05614323536721735]\n",
      "\tNetwork briers: [0.21045872120334222, 0.22176649774737897, 0.23238640154695722]\n",
      "\t======================\n",
      "\t======================\n",
      "\tKDE Accs: [0.944, 0.948, 0.929, 0.921]\n",
      "\tNetwork Accs: [0.5, 0.5, 0.5, 0.5]\n",
      "\n",
      "\tKDE briers: [0.049484900685690704, 0.04876831525239862, 0.05614323536721735, 0.06821704524402673]\n",
      "\tNetwork briers: [0.21045872120334222, 0.22176649774737897, 0.23238640154695722, 0.25295498527673566]\n",
      "\t======================\n",
      "\t======================\n",
      "\tKDE Accs: [0.944, 0.948, 0.929, 0.921, 0.939]\n",
      "\tNetwork Accs: [0.5, 0.5, 0.5, 0.5, 0.675]\n",
      "\n",
      "\tKDE briers: [0.049484900685690704, 0.04876831525239862, 0.05614323536721735, 0.06821704524402673, 0.05089274792097839]\n",
      "\tNetwork briers: [0.21045872120334222, 0.22176649774737897, 0.23238640154695722, 0.25295498527673566, 0.2336538255882485]\n",
      "\t======================\n",
      "\t======================\n",
      "\tKDE Accs: [0.944, 0.948, 0.929, 0.921, 0.939, 0.949]\n",
      "\tNetwork Accs: [0.5, 0.5, 0.5, 0.5, 0.675, 0.5]\n",
      "\n",
      "\tKDE briers: [0.049484900685690704, 0.04876831525239862, 0.05614323536721735, 0.06821704524402673, 0.05089274792097839, 0.05644889887616206]\n",
      "\tNetwork briers: [0.21045872120334222, 0.22176649774737897, 0.23238640154695722, 0.25295498527673566, 0.2336538255882485, 0.22072092536375515]\n",
      "\t======================\n",
      "\t======================\n",
      "\tKDE Accs: [0.944, 0.948, 0.929, 0.921, 0.939, 0.949, 0.942]\n",
      "\tNetwork Accs: [0.5, 0.5, 0.5, 0.5, 0.675, 0.5, 0.5]\n",
      "\n",
      "\tKDE briers: [0.049484900685690704, 0.04876831525239862, 0.05614323536721735, 0.06821704524402673, 0.05089274792097839, 0.05644889887616206, 0.06174583591861921]\n",
      "\tNetwork briers: [0.21045872120334222, 0.22176649774737897, 0.23238640154695722, 0.25295498527673566, 0.2336538255882485, 0.22072092536375515, 0.2580823911073259]\n",
      "\t======================\n",
      "\t======================\n",
      "\tKDE Accs: [0.944, 0.948, 0.929, 0.921, 0.939, 0.949, 0.942, 0.919]\n",
      "\tNetwork Accs: [0.5, 0.5, 0.5, 0.5, 0.675, 0.5, 0.5, 0.893]\n",
      "\n",
      "\tKDE briers: [0.049484900685690704, 0.04876831525239862, 0.05614323536721735, 0.06821704524402673, 0.05089274792097839, 0.05644889887616206, 0.06174583591861921, 0.07435188399924375]\n",
      "\tNetwork briers: [0.21045872120334222, 0.22176649774737897, 0.23238640154695722, 0.25295498527673566, 0.2336538255882485, 0.22072092536375515, 0.2580823911073259, 0.14269830046234797]\n",
      "\t======================\n",
      "\t======================\n",
      "\tKDE Accs: [0.944, 0.948, 0.929, 0.921, 0.939, 0.949, 0.942, 0.919, 0.934]\n",
      "\tNetwork Accs: [0.5, 0.5, 0.5, 0.5, 0.675, 0.5, 0.5, 0.893, 0.615]\n",
      "\n",
      "\tKDE briers: [0.049484900685690704, 0.04876831525239862, 0.05614323536721735, 0.06821704524402673, 0.05089274792097839, 0.05644889887616206, 0.06174583591861921, 0.07435188399924375, 0.06365911873204289]\n",
      "\tNetwork briers: [0.21045872120334222, 0.22176649774737897, 0.23238640154695722, 0.25295498527673566, 0.2336538255882485, 0.22072092536375515, 0.2580823911073259, 0.14269830046234797, 0.27127512858815755]\n",
      "\t======================\n",
      "\t======================\n",
      "\tKDE Accs: [0.944, 0.948, 0.929, 0.921, 0.939, 0.949, 0.942, 0.919, 0.934, 0.942]\n",
      "\tNetwork Accs: [0.5, 0.5, 0.5, 0.5, 0.675, 0.5, 0.5, 0.893, 0.615, 0.902]\n",
      "\n",
      "\tKDE briers: [0.049484900685690704, 0.04876831525239862, 0.05614323536721735, 0.06821704524402673, 0.05089274792097839, 0.05644889887616206, 0.06174583591861921, 0.07435188399924375, 0.06365911873204289, 0.04976042080535918]\n",
      "\tNetwork briers: [0.21045872120334222, 0.22176649774737897, 0.23238640154695722, 0.25295498527673566, 0.2336538255882485, 0.22072092536375515, 0.2580823911073259, 0.14269830046234797, 0.27127512858815755, 0.13869800205108274]\n",
      "\t======================\n",
      "\n"
     ]
    },
    {
     "data": {
      "image/png": "[encoded data removed]",
      "text/plain": [
       "<Figure size 432x288 with 1 Axes>"
      ]
     },
     "metadata": {
      "needs_background": "light"
     },
     "output_type": "display_data"
    },
    {
     "data": {
      "image/png": "[encoded data removed]",
      "text/plain": [
       "<Figure size 432x288 with 1 Axes>"
      ]
     },
     "metadata": {
      "needs_background": "light"
     },
     "output_type": "display_data"
    },
    {
     "data": {
      "application/vnd.jupyter.widget-view+json": {
       "model_id": "d9882b0c901649919da6a2ac7d30d237",
       "version_major": 2,
       "version_minor": 0
      },
      "text/plain": [
       "HBox(children=(FloatProgress(value=0.0, max=10.0), HTML(value='')))"
      ]
     },
     "metadata": {},
     "output_type": "display_data"
    },
    {
     "name": "stdout",
     "output_type": "stream",
     "text": [
      "\t======================\n",
      "\tKDE Accs: [0.932]\n",
      "\tNetwork Accs: [0.679]\n",
      "\n",
      "\tKDE briers: [0.06378287167577029]\n",
      "\tNetwork briers: [0.20340486091029195]\n",
      "\t======================\n",
      "\t======================\n",
      "\tKDE Accs: [0.932, 0.938]\n",
      "\tNetwork Accs: [0.679, 0.889]\n",
      "\n",
      "\tKDE briers: [0.06378287167577029, 0.06390701886968417]\n",
      "\tNetwork briers: [0.20340486091029195, 0.11192186330678099]\n",
      "\t======================\n",
      "\t======================\n",
      "\tKDE Accs: [0.932, 0.938, 0.947]\n",
      "\tNetwork Accs: [0.679, 0.889, 0.714]\n",
      "\n",
      "\tKDE briers: [0.06378287167577029, 0.06390701886968417, 0.05034495744163353]\n",
      "\tNetwork briers: [0.20340486091029195, 0.11192186330678099, 0.22812518579601218]\n",
      "\t======================\n"
     ]
    }
   ],
   "source": [
    "KDE_accs = []\n",
    "network_accs = []\n",
    "\n",
    "KDE_acc_stds = []\n",
    "network_acc_stds = []\n",
    "\n",
    "KDE_briers = []\n",
    "network_briers = []\n",
    "\n",
    "KDE_brier_stds = []\n",
    "network_brier_stds = []\n",
    "n_ra = np.logspace(3.5, 7.5, num = 6, base = 5)\n",
    "for n in tqdm(n_ra):\n",
    "    KDE_accs_across_trials = []\n",
    "    network_accs_across_trials = []\n",
    "    \n",
    "    KDE_briers_across_trials = []\n",
    "    network_briers_across_trials = []\n",
    "    for _ in tqdm(range(10)):\n",
    "        \n",
    "        random_indices = np.random.choice(len(X), int(n))\n",
    "        X, y = X[random_indices], y[random_indices]\n",
    "        \n",
    "        \n",
    "        network = construct_network(X, y)\n",
    "        KDEs = train_AKN(X, y, X_test, y_test)\n",
    "        \n",
    "        y_proba = np.zeros((len(X_test), len(KDEs)))\n",
    "        #loops over the KDEs (and thus, implicitly, the y-values)\n",
    "        for y_val in range(len(KDEs)):\n",
    "            #compute the (unnormalized) posterior for the KDE corresponding\n",
    "            #to y_val. NOTE: we perform np.exp since the score_samples \n",
    "            #function returns the log of the probability of belonging to that \n",
    "            #class, so we must invert the log through an exponential\n",
    "            y_proba[:, y_val] = np.exp(KDEs[y_val].score_samples(X_test) )\n",
    "            \n",
    "        for y_val in range(np.shape(y_proba)[1]):\n",
    "            y_proba[:, y_val] /= np.sum(y_proba, axis = 1)\n",
    "\n",
    "        KDE_accs_across_trials.append(np.mean(np.argmax(y_proba, axis = 1) == y_test))\n",
    "        KDE_briers_across_trials.append(get_brier(y_proba, y_test))\n",
    "        \n",
    "        y_proba = network.predict(X_test)\n",
    "        network_accs_across_trials.append(np.mean(np.argmax(y_proba, axis = 1) == y_test))\n",
    "        network_briers_across_trials.append(get_brier(y_proba, y_test))\n",
    "        print(\"\\t======================\")\n",
    "        print(\"\\tKDE Accs: {}\".format(KDE_accs_across_trials))\n",
    "        print(\"\\tNetwork Accs: {}\".format(network_accs_across_trials))\n",
    "        print()\n",
    "        print(\"\\tKDE briers: {}\".format(KDE_briers_across_trials))\n",
    "        print(\"\\tNetwork briers: {}\".format(network_briers_across_trials))\n",
    "        print(\"\\t======================\")\n",
    "    KDE_accs.append(np.mean(KDE_accs_across_trials))\n",
    "    \n",
    "    network_accs.append(np.mean(network_accs_across_trials))\n",
    "    \n",
    "    KDE_acc_stds.append(np.std(KDE_accs_across_trials))\n",
    "    network_acc_stds.append(np.std(network_accs_across_trials))\n",
    "    \n",
    "    KDE_briers.append(np.mean(KDE_briers_across_trials))\n",
    "    network_briers.append(np.mean(network_briers_across_trials))\n",
    "\n",
    "    KDE_brier_stds.append(np.std(KDE_briers_across_trials))\n",
    "    network_brier_stds.append(np.std(network_briers_across_trials))\n",
    "    \n",
    "    plt.plot(n_ra[:len(KDE_accs)] , KDE_accs, label = \"AKN\", c = \"red\")\n",
    "    plt.plot(n_ra[:len(network_accs)], network_accs, label = \"ANN\", c = \"blue\")\n",
    "    plt.fill_between(n_ra[:len(KDE_accs)], \n",
    "                     np.array(KDE_accs) + np.array(KDE_acc_stds), \n",
    "                     np.array(KDE_accs) - np.array(KDE_acc_stds), \n",
    "                     color = \"red\", \n",
    "                     alpha = .25)\n",
    "    plt.fill_between(n_ra[:len(network_accs)], \n",
    "                     np.array(network_accs) + np.array(network_acc_stds), \n",
    "                     np.array(network_accs) - np.array(network_acc_stds), \n",
    "                     color = \"blue\", \n",
    "                     alpha = .25)\n",
    "    plt.legend()\n",
    "    plt.xlabel(\"Number of Training Samples\")\n",
    "    plt.ylabel(\"Test Accuracy\")\n",
    "    plt.xscale(\"log\")\n",
    "    plt.show()\n",
    "    \n",
    "    plt.plot(n_ra[:len(KDE_briers)] , KDE_briers, label = \"AKN\", c = \"red\")\n",
    "    plt.plot(n_ra[:len(network_briers)], network_briers, label = \"ANN\", c = \"blue\")\n",
    "    plt.fill_between(n_ra[:len(KDE_briers)], \n",
    "                     np.array(KDE_briers) + np.array(KDE_acc_stds), \n",
    "                     np.array(KDE_briers) - np.array(KDE_acc_stds), \n",
    "                     color = \"red\", \n",
    "                     alpha = .25)\n",
    "    plt.fill_between(n_ra[:len(network_briers)], \n",
    "                     np.array(network_briers) + np.array(network_acc_stds), \n",
    "                     np.array(network_briers) - np.array(network_acc_stds), \n",
    "                     color = \"blue\", \n",
    "                     alpha = .25)\n",
    "    plt.legend()\n",
    "    plt.xlabel(\"Number of Training Samples\")\n",
    "    plt.ylabel(\"Test Mean Brier Score\")\n",
    "    plt.xscale(\"log\")\n",
    "    plt.show()\n",
    "    \n",
    "    \n",
    "    "
   ]
  },
  {
   "cell_type": "code",
   "execution_count": null,
   "metadata": {},
   "outputs": [],
   "source": [
    "plt.plot(n_ra , KDE_accs, label = \"AKN\", c = \"red\")\n",
    "    plt.plot(n_ra, network_accs, label = \"ANN\", c = \"blue\")\n",
    "    plt.fill_between(n_ra, \n",
    "                     np.array(KDE_accs) + np.array(KDE_acc_stds), \n",
    "                     np.array(KDE_accs) - np.array(KDE_acc_stds), \n",
    "                     color = \"red\", \n",
    "                     alpha = .25)\n",
    "    plt.fill_between(n_ra, \n",
    "                     np.array(network_accs) + np.array(network_acc_stds), \n",
    "                     np.array(network_accs) - np.array(network_acc_stds), \n",
    "                     color = \"blue\", \n",
    "                     alpha = .25)\n",
    "    plt.legend()\n",
    "    plt.xlabel(\"Number of Training Samples\")\n",
    "    plt.ylabel(\"Test Accuracy\")\n",
    "    plt.xscale(\"log\")\n",
    "    plt.show()\n",
    "    \n",
    "    plt.plot(n_ra, KDE_briers, label = \"AKN\", c = \"red\")\n",
    "    plt.plot(n_ra, network_briers, label = \"ANN\", c = \"blue\")\n",
    "    plt.fill_between(n_ra, \n",
    "                     np.array(KDE_briers) + np.array(KDE_acc_stds), \n",
    "                     np.array(KDE_briers) - np.array(KDE_acc_stds), \n",
    "                     color = \"red\", \n",
    "                     alpha = .25)\n",
    "    plt.fill_between(n_ra, \n",
    "                     np.array(network_briers) + np.array(network_acc_stds), \n",
    "                     np.array(network_briers) - np.array(network_acc_stds), \n",
    "                     color = \"blue\", \n",
    "                     alpha = .25)\n",
    "    plt.legend()\n",
    "    plt.xlabel(\"Number of Training Samples\")\n",
    "    plt.ylabel(\"Test Mean Brier Score\")\n",
    "    plt.xscale(\"log\")\n",
    "    plt.show()"
   ]
  }
 ],
 "metadata": {
  "accelerator": "TPU",
  "colab": {
   "collapsed_sections": [],
   "name": "Neural Polytopes",
   "provenance": []
  },
  "kernelspec": {
   "display_name": "Environment (conda_tensorflow_p36)",
   "language": "python",
   "name": "conda_tensorflow_p36"
  },
  "language_info": {
   "codemirror_mode": {
    "name": "ipython",
    "version": 3
   },
   "file_extension": ".py",
   "mimetype": "text/x-python",
   "name": "python",
   "nbconvert_exporter": "python",
   "pygments_lexer": "ipython3",
   "version": "3.6.10"
  }
 },
 "nbformat": 4,
 "nbformat_minor": 1
}
