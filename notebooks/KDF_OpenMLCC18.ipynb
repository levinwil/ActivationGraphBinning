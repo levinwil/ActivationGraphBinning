{
 "cells": [
  {
   "cell_type": "code",
   "execution_count": 1,
   "metadata": {
    "colab": {},
    "colab_type": "code",
    "id": "RPaqPKs4ZvVa"
   },
   "outputs": [
    {
     "name": "stderr",
     "output_type": "stream",
     "text": [
      "Using TensorFlow backend.\n"
     ]
    }
   ],
   "source": [
    "import keras\n",
    "import numpy as np\n",
    "\n",
    "import matplotlib.pyplot as plt\n",
    "import matplotlib as mpl\n",
    "mpl.rcParams['lines.linewidth'] = 6\n",
    "\n",
    "from sklearn.neighbors import KernelDensity\n",
    "from sklearn.model_selection import train_test_split\n",
    "\n",
    "from sklearn.ensemble import RandomForestClassifier\n",
    "\n",
    "from tqdm.notebook import tqdm\n",
    "\n",
    "from scipy import stats\n",
    "\n",
    "from sklearn import datasets\n",
    "\n",
    "import sys \n",
    "sys.path.append(\"../\")\n",
    "from KDG import KDG\n",
    "\n",
    "import openml"
   ]
  },
  {
   "cell_type": "markdown",
   "metadata": {},
   "source": [
    "# Experiment Parameters"
   ]
  },
  {
   "cell_type": "code",
   "execution_count": 2,
   "metadata": {
    "colab": {},
    "colab_type": "code",
    "id": "Cha_h-Smq2z1"
   },
   "outputs": [],
   "source": [
    "max_depth = 4\n",
    "n_estimators = 30\n",
    "num_trials = 2"
   ]
  },
  {
   "cell_type": "markdown",
   "metadata": {},
   "source": [
    "# Data Generation"
   ]
  },
  {
   "cell_type": "markdown",
   "metadata": {
    "colab_type": "text",
    "id": "mzuhRa_v8IrC"
   },
   "source": [
    "# Construct & Train Network"
   ]
  },
  {
   "cell_type": "markdown",
   "metadata": {},
   "source": [
    "## Keurnal Networks"
   ]
  },
  {
   "cell_type": "code",
   "execution_count": 3,
   "metadata": {},
   "outputs": [],
   "source": [
    "def train_AKN(X, y):\n",
    "    #X_transform, y_transform = X, y\n",
    "    rfc = RandomForestClassifier(n_estimators = n_estimators, \n",
    "                                   max_depth = max_depth)\n",
    "\n",
    "    rfc.fit(X, y)\n",
    "\n",
    "    predicted_leaf_ids_across_trees = [np.unique(tree.apply(X), return_inverse = True)[1] for tree_idx, tree in enumerate(rfc.estimators_)]\n",
    "\n",
    "    return KDG().fit(X, y, predicted_leaf_ids_across_trees)"
   ]
  },
  {
   "cell_type": "code",
   "execution_count": 4,
   "metadata": {},
   "outputs": [],
   "source": [
    "def get_network_y_proba(X, y, n, X_test):\n",
    "    random_indices = np.random.choice(len(X), int(n), replace = False)\n",
    "    X, y = X[random_indices], y[random_indices]\n",
    "    rfc = RandomForestClassifier(n_estimators = n_estimators, \n",
    "                                   max_depth = max_depth)\n",
    "\n",
    "    rfc.fit(X, y)\n",
    "    return rfc.predict_proba(X_test)\n",
    "    \n",
    "\n",
    "def get_KDE_y_proba(X, y, n, X_test):\n",
    "    random_indices = np.random.choice(len(X), int(n), replace = False)\n",
    "    X, y = X[random_indices], y[random_indices]\n",
    "    kdg = train_AKN(X, y)\n",
    "    y_proba_unnormalized = kdg.predict_proba(X_test, pooling = \"polytope\")\n",
    "\n",
    "    y_proba = y_proba_unnormalized.copy()\n",
    "    for y_val in range(np.shape(y_proba)[1]):\n",
    "        y_proba[:, y_val] /= np.sum(y_proba_unnormalized, axis = 1)\n",
    "        \n",
    "    return y_proba"
   ]
  },
  {
   "cell_type": "code",
   "execution_count": null,
   "metadata": {},
   "outputs": [],
   "source": [
    "def clipped_mean(ra, low = 25, high = 75):\n",
    "    ra = np.array(ra)\n",
    "    lower_val = np.nanpercentile(ra, low)\n",
    "    higher_val = np.nanpercentile(ra, high)\n",
    "    return np.mean(ra[np.where((ra >= lower_val) & (ra <= higher_val))[0]])"
   ]
  },
  {
   "cell_type": "code",
   "execution_count": null,
   "metadata": {},
   "outputs": [],
   "source": [
    "def get_ece(predicted_posterior, y):\n",
    "    hists = []\n",
    "    hists_hat = []\n",
    "    amts = []\n",
    "    num_bins = 40\n",
    "    eces_across_y_vals = []\n",
    "    for y_val in np.unique(y):\n",
    "        for i in range(num_bins):\n",
    "            prop = i*1./num_bins\n",
    "            inds = np.where((predicted_posterior[:, y_val] >= prop) & (predicted_posterior[:, y_val] <= prop+1./num_bins))[0]\n",
    "            amts.append(len(inds))\n",
    "            if len(inds) > 0:\n",
    "                hists.append(len(np.where(y[inds] == y_val)[0])*1./len(inds))\n",
    "                hists_hat.append(np.mean(predicted_posterior[inds, y_val]))\n",
    "            else:\n",
    "                hists.append(prop)\n",
    "                hists_hat.append(prop + 0.5/num_bins)\n",
    "        eces_across_y_vals.append(np.dot(np.abs(np.array(hists) - np.array(hists_hat)), amts) / np.sum(amts))\n",
    "    return np.mean(eces_across_y_vals)"
   ]
  },
  {
   "cell_type": "code",
   "execution_count": null,
   "metadata": {},
   "outputs": [],
   "source": [
    "def get_brier(predicted_posterior, y):\n",
    "    brier_across_y_vals = []\n",
    "    for y_val in np.unique(y):\n",
    "        brier_across_y_vals.append(np.nanmean((predicted_posterior[:, y_val] - (y == y_val).astype('int'))**2))\n",
    "    return np.mean(brier_across_y_vals)"
   ]
  },
  {
   "cell_type": "code",
   "execution_count": null,
   "metadata": {
    "scrolled": true
   },
   "outputs": [
    {
     "name": "stdout",
     "output_type": "stream",
     "text": [
      "Dataset Num = 3\n",
      "N = 3196\n",
      "D = 36\n",
      "\n"
     ]
    },
    {
     "data": {
      "application/vnd.jupyter.widget-view+json": {
       "model_id": "ffcb8a77638f4a5abc5107625a7293ad",
       "version_major": 2,
       "version_minor": 0
      },
      "text/plain": [
       "HBox(children=(FloatProgress(value=0.0, max=5.0), HTML(value='')))"
      ]
     },
     "metadata": {},
     "output_type": "display_data"
    },
    {
     "name": "stderr",
     "output_type": "stream",
     "text": [
      "[Parallel(n_jobs=-1)]: Using backend LokyBackend with 32 concurrent workers.\n",
      "[Parallel(n_jobs=-1)]: Done 113 out of 113 | elapsed:    5.8s finished\n",
      "[Parallel(n_jobs=-1)]: Using backend LokyBackend with 32 concurrent workers.\n",
      "[Parallel(n_jobs=-1)]: Done  80 out of 143 | elapsed:    1.4s remaining:    1.1s\n",
      "[Parallel(n_jobs=-1)]: Done 143 out of 143 | elapsed:    2.1s finished\n",
      "[Parallel(n_jobs=-1)]: Using backend LokyBackend with 32 concurrent workers.\n",
      "[Parallel(n_jobs=-1)]: Done 200 tasks      | elapsed:    6.2s\n",
      "[Parallel(n_jobs=-1)]: Done 340 out of 340 | elapsed:   12.0s finished\n",
      "[Parallel(n_jobs=-1)]: Using backend LokyBackend with 32 concurrent workers.\n",
      "[Parallel(n_jobs=-1)]: Done 200 tasks      | elapsed:    6.2s\n",
      "[Parallel(n_jobs=-1)]: Done 335 out of 335 | elapsed:   12.3s finished\n",
      "[Parallel(n_jobs=-1)]: Using backend LokyBackend with 32 concurrent workers.\n",
      "[Parallel(n_jobs=-1)]: Done 136 tasks      | elapsed:    9.1s\n",
      "[Parallel(n_jobs=-1)]: Done 386 tasks      | elapsed:   25.4s\n"
     ]
    }
   ],
   "source": [
    "kappa_acc_means = []\n",
    "kappa_acc_stds = []\n",
    "\n",
    "kappa_ece_means = []\n",
    "kappa_ece_stds = []\n",
    "ds = []\n",
    "ns = []\n",
    "traces_X = []\n",
    "traces_y = []\n",
    "for dataset_idx in openml.study.get_suite('OpenML-CC18').tasks:\n",
    "    successfully_loaded = True\n",
    "    try:\n",
    "        X, y = openml.tasks.get_task(dataset_idx).get_X_and_y()\n",
    "        _, y = np.unique(y, return_inverse = True)\n",
    "    except:\n",
    "        print(\"Skipping Dataset {}\".format(dataset_idx))\n",
    "        successfully_loaded = False\n",
    "    \n",
    "    if successfully_loaded:\n",
    "        print(\"Dataset Num = {}\".format(dataset_idx))\n",
    "        print(\"N = {}\".format(len(X)))\n",
    "        print(\"D = {}\".format(np.shape(X)[1]))\n",
    "        print()\n",
    "        \n",
    "        \n",
    "        if len(X) > 10 / .7 and np.shape(X)[1] < 50:\n",
    "            n_ra = np.logspace(np.log10(10), np.log10(len(X) * 0.7), num = 5, base = 10)\n",
    "            for n in tqdm(n_ra):\n",
    "                kappa_acc_across_trials = []\n",
    "                kappa_ece_across_trials = []\n",
    "                for trial_idx in range(num_trials):\n",
    "                    try:\n",
    "                        X_train, X_test, y_train, y_test = train_test_split(X, y, test_size = 0.3)\n",
    "                        unique_y_train = np.unique(y_train)\n",
    "                        counts = np.bincount(y_test)\n",
    "                        max_class_frequency = np.max(counts)\n",
    "                        bayes_error = max_class_frequency / len(y_test)\n",
    "                        bayes_ece = get_brier(np.array([(counts / np.sum(counts)) for _ in range(len(y_test))]), y_test)\n",
    "\n",
    "                        KDE_y_proba = get_KDE_y_proba(X_train, y_train, n, X_test)\n",
    "                        network_y_proba = get_network_y_proba(X, y, n, X_test)\n",
    "\n",
    "                        KDE_acc = (bayes_error + 1e-12) / (np.nanmean(np.argmax(KDE_y_proba, axis = 1) != y_test) + 1e-12)\n",
    "                        network_acc = (bayes_error + 1e-12) / (np.nanmean(np.argmax(network_y_proba, axis = 1) != y_test) + 1e-12)\n",
    "                        kappa_acc_across_trials.append(KDE_acc - network_acc)\n",
    "\n",
    "                        KDE_ece = bayes_ece / get_brier(KDE_y_proba, y_test)\n",
    "                        network_ece = bayes_ece / get_brier(network_y_proba, y_test)\n",
    "                        kappa_ece_across_trials.append(KDE_ece - network_ece)\n",
    "                    except:\n",
    "                        pass\n",
    "\n",
    "                if len(kappa_acc_across_trials) > 0:\n",
    "                    kappa_acc_means.append(np.mean(kappa_acc_across_trials))\n",
    "                    kappa_acc_stds.append(np.std(kappa_acc_across_trials))\n",
    "                    kappa_ece_means.append(np.mean(kappa_ece_across_trials))\n",
    "                    kappa_ece_stds.append(np.std(kappa_ece_across_trials))\n",
    "                    ds.append(np.shape(X)[1])\n",
    "                    ns.append(n)\n",
    "                    traces_X.append(np.sum(np.matmul(np.transpose(X), X)))\n",
    "                    traces_y.append(np.sum(np.matmul(np.transpose(X), y)))\n",
    "            \n",
    "            if len(kappa_acc_means) > 1:\n",
    "                figs, ax = plt.subplots(1, 1, figsize = (18, 9))\n",
    "                figs.set_facecolor(\"white\")\n",
    "\n",
    "                ax.tick_params(axis='both', which='major', labelsize=27)\n",
    "                ax.plot(n_ra, kappa_acc_means[-len(n_ra):])\n",
    "                ax.hlines(0.0, 0, np.max(n_ra[:len(kappa_acc_means)]), linestyle = \"dashed\", label = \"Perfect\", color = \"black\")\n",
    "                ax.legend(fontsize = 18, loc = \"upper right\", frameon = False)\n",
    "                ax.set_xlabel(\"Number of Training Samples (logscale)\", fontsize = 27)\n",
    "                ax.set_ylabel(\"Kappa (Generalization Error)\", fontsize = 27)\n",
    "                ax.set_xscale(\"log\")\n",
    "                ax.fill_between(n_ra, \n",
    "                               np.array(kappa_acc_means)[-len(n_ra):] + np.array(kappa_acc_stds)[-len(n_ra):],\n",
    "                               np.array(kappa_acc_means)[-len(n_ra):] - np.array(kappa_acc_stds)[-len(n_ra):],\n",
    "                               alpha = .1,\n",
    "                               color = \"blue\")\n",
    "                for side in {\"right\", \"top\"}:\n",
    "                        ax.spines[side].set_visible(False)\n",
    "\n",
    "\n",
    "                figs.tight_layout()\n",
    "\n",
    "                plt.show()\n",
    "                \n",
    "            if len(kappa_ece_means) > 1:\n",
    "                figs, ax = plt.subplots(1, 1, figsize = (18, 9))\n",
    "                figs.set_facecolor(\"white\")\n",
    "\n",
    "                ax.tick_params(axis='both', which='major', labelsize=27)\n",
    "                ax.plot(n_ra, kappa_ece_means[-len(n_ra):])\n",
    "                ax.hlines(0.0, 0, np.max(n_ra), linestyle = \"dashed\", label = \"Perfect\", color = \"black\")\n",
    "                ax.legend(fontsize = 18, loc = \"upper right\", frameon = False)\n",
    "                ax.set_xlabel(\"Number of Training Samples (logscale)\", fontsize = 27)\n",
    "                ax.set_ylabel(\"Kappa (ECE)\", fontsize = 27)\n",
    "                ax.set_xscale(\"log\")\n",
    "                ax.fill_between(n_ra, \n",
    "                               np.array(kappa_ece_means)[-len(n_ra):] + np.array(kappa_ece_stds)[-len(n_ra):],\n",
    "                               np.array(kappa_ece_means)[-len(n_ra):] - np.array(kappa_ece_stds)[-len(n_ra):],\n",
    "                               alpha = .1,\n",
    "                               color = \"blue\")\n",
    "                for side in {\"right\", \"top\"}:\n",
    "                        ax.spines[side].set_visible(False)\n",
    "\n",
    "\n",
    "                figs.tight_layout()\n",
    "\n",
    "                plt.show()\n",
    "        else:\n",
    "            print(\"Skipping Dataset\")\n",
    "            print()\n",
    "\n",
    "    \n"
   ]
  },
  {
   "cell_type": "code",
   "execution_count": null,
   "metadata": {},
   "outputs": [],
   "source": [
    "figs, ax = plt.subplots(1, 1, figsize = (12, 6))\n",
    "kappa_acc_means = np.array(kappa_acc_means)\n",
    "ax.boxplot(kappa_acc_means, widths = 1)\n",
    "ax.hlines(0.0, 0, 2, linewidth = 1, color = \"green\")\n",
    "ax.set_ylim((-5, 5))\n",
    "ax.set_xticks([])\n",
    "ax.set_ylabel(\"Kappa\", fontsize = 16)\n",
    "\n",
    "figs.suptitle(\"Kappa Difference (KDE - RF) for Generalization Error\", fontsize = 16)"
   ]
  },
  {
   "cell_type": "code",
   "execution_count": null,
   "metadata": {},
   "outputs": [],
   "source": [
    "figs, ax = plt.subplots(1, 1, figsize = (12, 6))\n",
    "finite_idxs = np.where(~np.isnan(kappa_ece_means))\n",
    "kappa_ece_means = np.array(kappa_ece_means)\n",
    "ax.boxplot(kappa_ece_means[finite_idxs], widths = 1)\n",
    "ax.hlines(0.0, 0, 2, linewidth = 1, color = \"green\")\n",
    "ax.set_xticks([])\n",
    "ax.set_ylabel(\"ECE\", fontsize = 16)\n",
    "\n",
    "figs.suptitle(\"Kappa Difference (KDE - RF)\", fontsize = 16)"
   ]
  },
  {
   "cell_type": "code",
   "execution_count": null,
   "metadata": {},
   "outputs": [],
   "source": [
    "plt.scatter(np.array(ns)[finite_idxs], kappa_ece_means[finite_idxs])"
   ]
  },
  {
   "cell_type": "code",
   "execution_count": null,
   "metadata": {},
   "outputs": [],
   "source": [
    "plt.scatter(np.array(ds)[finite_idxs], kappa_ece_means[finite_idxs])"
   ]
  },
  {
   "cell_type": "code",
   "execution_count": null,
   "metadata": {},
   "outputs": [],
   "source": [
    "plt.scatter(np.array(ns)[finite_idxs] / np.array(ds)[finite_idxs], kappa_ece_means[finite_idxs])"
   ]
  },
  {
   "cell_type": "code",
   "execution_count": null,
   "metadata": {},
   "outputs": [],
   "source": [
    "plt.scatter(np.array(traces_X)[np.where((np.abs(traces_X) < 1e8) & (~np.isnan(kappa_ece_means)))], kappa_ece_means[np.where((np.abs(traces_X) < 1e8) & (~np.isnan(kappa_ece_means)))])"
   ]
  },
  {
   "cell_type": "code",
   "execution_count": null,
   "metadata": {},
   "outputs": [],
   "source": [
    "plt.scatter(np.array(traces_y)[np.where((np.abs(traces_y) < 1e8) & (~np.isnan(kappa_ece_means)))[0]], kappa_ece_means[np.where((np.abs(traces_y) < 1e8) & (~np.isnan(kappa_ece_means)))[0]])"
   ]
  },
  {
   "cell_type": "code",
   "execution_count": null,
   "metadata": {},
   "outputs": [],
   "source": []
  }
 ],
 "metadata": {
  "accelerator": "TPU",
  "colab": {
   "collapsed_sections": [],
   "name": "Neural Polytopes",
   "provenance": []
  },
  "kernelspec": {
   "display_name": "Environment (conda_tensorflow2_p36)",
   "language": "python",
   "name": "conda_tensorflow2_p36"
  },
  "language_info": {
   "codemirror_mode": {
    "name": "ipython",
    "version": 3
   },
   "file_extension": ".py",
   "mimetype": "text/x-python",
   "name": "python",
   "nbconvert_exporter": "python",
   "pygments_lexer": "ipython3",
   "version": "3.6.10"
  }
 },
 "nbformat": 4,
 "nbformat_minor": 1
}
